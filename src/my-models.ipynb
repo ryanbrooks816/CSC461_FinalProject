{
 "cells": [
  {
   "cell_type": "code",
   "execution_count": 1,
   "id": "50f4c5af",
   "metadata": {},
   "outputs": [],
   "source": [
    "import torch\n",
    "import torch.nn as nn\n",
    "from base.data import get_data_loaders, get_data_loaders_wandb, get_data_loaders_loocv\n",
    "from base.train import Trainer, eval_metrics\n",
    "import pandas as pd\n",
    "import wandb\n",
    "import matplotlib.pyplot as plt"
   ]
  },
  {
   "cell_type": "code",
   "execution_count": 2,
   "id": "f56ec987",
   "metadata": {},
   "outputs": [],
   "source": [
    "class MLPHead(nn.Module):\n",
    "    def __init__(self, in_dim, out_dim, use_norm, dropout, n_layers):\n",
    "        super(MLPHead, self).__init__()\n",
    "        l_sz = [in_dim] + [in_dim//2**(i+1) for i in range(n_layers)] + [out_dim]\n",
    "        layers = []\n",
    "        for i in range(1, len(l_sz)-1):\n",
    "            layers.append(nn.Linear(l_sz[i-1], l_sz[i]))\n",
    "            if use_norm == 'batch':\n",
    "                layers.append(nn.BatchNorm1d(l_sz[i]))\n",
    "            elif use_norm == 'layer':\n",
    "                layers.append(nn.LayerNorm(l_sz[i]))\n",
    "            layers.append(nn.ReLU())\n",
    "            layers.append(nn.Dropout(dropout))\n",
    "        layers.append(nn.Linear(l_sz[-2], l_sz[-1]))\n",
    "        self.head = nn.Sequential(*layers)\n",
    "\n",
    "    def forward(self, x):\n",
    "        return self.head(x)"
   ]
  },
  {
   "cell_type": "code",
   "execution_count": 3,
   "id": "3d16c5f3",
   "metadata": {},
   "outputs": [],
   "source": [
    "class MLP(nn.Module):\n",
    "    def __init__(self, cfg):\n",
    "        super().__init__()\n",
    "        self.n_embeddings = cfg['n_embeddings']\n",
    "        self.projection = nn.Sequential(\n",
    "            nn.Linear(cfg['emb_dim'], cfg['emb_latent_dim']),\n",
    "            nn.LayerNorm(cfg['emb_latent_dim'])\n",
    "        )\n",
    "        # in_dim = cfg['emb_latent_dim'] * self.n_embeddings + cfg['transf_dim']\n",
    "        in_dim = cfg['emb_latent_dim'] * (self.n_embeddings[0] + self.n_embeddings[1]) + cfg['transf_dim']\n",
    "        out_dim = 1 if cfg['task'] == 'regression' else cfg['num_classes']\n",
    "        self.head = MLPHead(in_dim, out_dim, cfg['use_layer_norm'], cfg['dropout'], cfg['n_hid_layers'])\n",
    "\n",
    "    # ENB1: unmodified code\n",
    "    # EMB2: mutated code\n",
    "    def forward(self, batch):\n",
    "        if self.n_embeddings[0]:\n",
    "            em_feat_1 = self.projection(batch[0])\n",
    "            if self.n_embeddings[1] == True:\n",
    "                em_feat_2 = self.projection(batch[1])\n",
    "                if self.n_embeddings[2]:\n",
    "                    x = torch.cat([em_feat_1, em_feat_2, batch[2]], dim=1)\n",
    "                else:\n",
    "                    x = torch.cat([em_feat_1, em_feat_2], dim=1)\n",
    "            else:\n",
    "                if self.n_embeddings[2]:\n",
    "                    x = torch.cat([em_feat_1, batch[1]], dim=1)\n",
    "                else:\n",
    "                    x = em_feat_1\n",
    "        else:\n",
    "            if self.n_embeddings[1]:\n",
    "                em_feat_2 = self.projection(batch[0])\n",
    "                if self.n_embeddings[2]:\n",
    "                    x = torch.cat([em_feat_2, batch[1]], dim=1)\n",
    "                else:\n",
    "                    x = em_feat_2\n",
    "        return self.head(x).squeeze(-1)\n",
    "\n",
    "        # Old version:\n",
    "        # (EMB1, TRANSF) (case 1)\n",
    "        # (EMB1, EMB2, TRANSF) (case 2)\n",
    "        \n",
    "        # em_feat_1 = self.projection(batch[0])\n",
    "        # if self.n_embeddings == 1:\n",
    "        #     x = torch.cat([em_feat_1, batch[1]], dim=1)\n",
    "        # elif self.n_embeddings == 2:\n",
    "        #     em_feat_2 = self.projection(batch[1])\n",
    "        #     x = torch.cat([em_feat_1, em_feat_2, batch[2]], dim=1)\n",
    "        # return self.head(x).squeeze(-1)"
   ]
  },
  {
   "cell_type": "code",
   "execution_count": 4,
   "id": "4939713d",
   "metadata": {},
   "outputs": [],
   "source": [
    "# Show a histogram of the train test split sizes for the number of training data points and validation data points\n",
    "def visualize_loocv_splits(loaders):\n",
    "    train_sizes = [len(tr_loader.dataset) for _, tr_loader, _ in loaders]\n",
    "    val_sizes = [len(va_loader.dataset) for _, _, va_loader in loaders]\n",
    "\n",
    "    x = range(1, len(train_sizes) + 1)\n",
    "    width = 0.35\n",
    "\n",
    "    fig, ax = plt.subplots()\n",
    "    bars1 = ax.bar(x, train_sizes, width, label='Train')\n",
    "    bars2 = ax.bar([p + width for p in x], val_sizes, width, label='Validation')\n",
    "\n",
    "    ax.set_xlabel('Fold Number and val Application Name')\n",
    "    ax.set_ylabel('Number of Data Points')\n",
    "    ax.set_title('Train and Validation Sizes per Fold')\n",
    "\n",
    "    # Add application names to the fold numbers\n",
    "    app_names = [app for app, _, _ in loaders]\n",
    "    ax.set_xticks([p + width/2 for p in x])\n",
    "    ax.set_xticklabels([f'{i}\\n{app}' for i, app in zip(x, app_names)])\n",
    "\n",
    "    ax.legend()\n",
    "\n",
    "    # Set y-axis to logarithmic scale\n",
    "    ax.set_yscale('log')\n",
    "\n",
    "    # Add numbers at the top of each bar\n",
    "    for bar in bars1:\n",
    "        height = bar.get_height()\n",
    "        ax.text(bar.get_x() + bar.get_width() / 2, height, f'{height}', ha='center', va='bottom')\n",
    "\n",
    "    for bar in bars2:\n",
    "        height = bar.get_height()\n",
    "        ax.text(bar.get_x() + bar.get_width() / 2, height, f'{height}', ha='center', va='bottom')\n",
    "\n",
    "    plt.show()"
   ]
  },
  {
   "cell_type": "markdown",
   "id": "d600b6ce",
   "metadata": {},
   "source": [
    "## Main Project Pipeline"
   ]
  },
  {
   "cell_type": "code",
   "execution_count": 4,
   "id": "fe785ea0",
   "metadata": {},
   "outputs": [],
   "source": [
    "class ExperimentRunner:\n",
    "    def __init__(self, cfg_data, device, load_data=True):\n",
    "        self.cfg_data = cfg_data\n",
    "        self.device = device\n",
    "                \n",
    "    def _initialize_model(self, cfg_model):\n",
    "        if cfg_model['model_type'] == 'attention':\n",
    "            self.model = BidirectionalCrossAttention(cfg_model).to(self.device)\n",
    "        elif cfg_model['model_type'] == 'mlp':\n",
    "            self.model = MLP(cfg_model).to(self.device)\n",
    "        print(\"\\n\", self.model)\n",
    "\n",
    "    def train_model(self, cfg_model):\n",
    "        self.trainer = Trainer(self.device, self.model, cfg_model)\n",
    "        tr_losses, va_losses = self.trainer.train(self.tr_loader, self.va_loader)\n",
    "        self.model.load_state_dict(torch.load('best_model.pth', weights_only=True))\n",
    "        wandb.log({\"training_loss\": tr_losses[-1], \"validation_loss\": va_losses[-1]})\n",
    "        return tr_losses, va_losses\n",
    "\n",
    "    def evaluate_model(self, loader, dataset_type):\n",
    "        preds, tgts = self.trainer.predict(loader)\n",
    "        mapping = loader.dataset.loop_mapping if self.cfg_data['min_transformations'] > 2 else None\n",
    "        unique_classes = tgts.unique().tolist()\n",
    "        active_classes = [self.cfg_data['classes'][i] for i in unique_classes]\n",
    "        metrics = eval_metrics(\n",
    "            preds, tgts, figures=True, mapping=mapping, type=self.cfg_data['task'],\n",
    "            classes=active_classes\n",
    "        )\n",
    "        print(f\"{dataset_type} metrics: {metrics}\")\n",
    "        wandb.log({f\"{dataset_type}_metrics\": metrics})\n",
    "\n",
    "    def run(self, project_name, group_name, run_name_prefix, count=1):\n",
    "        for i in range(count):\n",
    "            wandb.init(\n",
    "                project=project_name, \n",
    "                group=group_name,\n",
    "                name=f\"{run_name_prefix}_{i+1}\",\n",
    "                config={**self.cfg_data},\n",
    "            )\n",
    "            self.tr_loader, self.va_loader = get_data_loaders_wandb(self.cfg_data)\n",
    "            self.run_experiment()\n",
    "    \n",
    "    def run_loocv(self, project_name, group_name, run_name_prefix):\n",
    "        loaders = get_data_loaders_loocv(self.cfg_data)\n",
    "        # visualize_loocv_splits(loaders) # create a visualization of the train and validation sizes per fold\n",
    "        for i, (val_app, tr_loader, va_loader) in enumerate(loaders):\n",
    "            print(f'Fold {i+1} - Validation on {val_app}')\n",
    "            # update the loaders for the current fold\n",
    "            self.tr_loader = tr_loader\n",
    "            self.va_loader = va_loader\n",
    "            print(f'Training on {len(self.tr_loader.dataset)} samples')\n",
    "            print(f'Validating on {len(self.va_loader.dataset)} samples')\n",
    "            wandb.init(\n",
    "                project=project_name, \n",
    "                group=group_name,\n",
    "                name=f\"{run_name_prefix}_fold_{i+1}_{val_app}\",\n",
    "                config={**self.cfg_data},\n",
    "            )\n",
    "            self.run_experiment()\n",
    "        \n",
    "    def run_experiment(self):\n",
    "        cfg_model = {\n",
    "            'n_hid_layers': 3,\n",
    "            'n_embeddings': self.cfg_data['n_embeddings'],\n",
    "            'emb_dim': self.tr_loader.dataset.embed_dim, # embedding dimensionality\n",
    "            'emb_latent_dim': 256, # embedding projection dimensionality\n",
    "            'transf_dim': self.tr_loader.dataset.tr_dim, # transformation dimensionality\n",
    "            'model_type': 'mlp', # 'attention', 'mlp'\n",
    "            'task': self.cfg_data['task'],\n",
    "            'dropout': 0.2,\n",
    "            'learning_rate': 1e-3,\n",
    "            'use_layer_norm': 'batch',\n",
    "            'weight_decay': 1e-3,\n",
    "            'max_epochs': 100,\n",
    "            'num_classes': len(self.cfg_data['classes'])\n",
    "        }\n",
    "        wandb.config.update(cfg_model)\n",
    "        self._initialize_model(cfg_model)\n",
    "        self.train_model(cfg_model)\n",
    "        self.evaluate_model(self.tr_loader, 'train')\n",
    "        self.evaluate_model(self.va_loader, 'val')\n",
    "        wandb.finish()\n",
    "        \n",
    "    def run_sweep(self, sweep_id, project_name, group_name, run_name_prefix, count=10):\n",
    "        def sweep_function():\n",
    "            wandb.init(\n",
    "                project=project_name, \n",
    "                group=group_name,\n",
    "                config={**self.cfg_data},\n",
    "            )\n",
    "            run_name = f\"{run_name_prefix}_{wandb.run.id}\" # update sweep run name\n",
    "            wandb.run.name = run_name   \n",
    "            self.run_sweep_experiment()\n",
    "            \n",
    "        self.tr_loader, self.va_loader = get_data_loaders_wandb(self.cfg_data)\n",
    "        wandb.agent(sweep_id, sweep_function, count=count)\n",
    "\n",
    "    def run_sweep_experiment(self):\n",
    "        # Build model configuration from wandb.config\n",
    "        cfg_model = {\n",
    "            'n_hid_layers': wandb.config.n_hid_layers,\n",
    "            'n_embeddings': self.cfg_data['n_embeddings'],\n",
    "            'emb_dim': self.tr_loader.dataset.embed_dim,\n",
    "            'emb_latent_dim': wandb.config.emb_latent_dim,\n",
    "            'transf_dim': self.tr_loader.dataset.tr_dim,\n",
    "            'model_type': wandb.config.model_type,\n",
    "            'task': self.cfg_data['task'],\n",
    "            'dropout': wandb.config.dropout,\n",
    "            'learning_rate': wandb.config.learning_rate,\n",
    "            'use_layer_norm': wandb.config.use_layer_norm,\n",
    "            'weight_decay': wandb.config.weight_decay,\n",
    "            'max_epochs': wandb.config.max_epochs,\n",
    "            'num_classes': len(self.cfg_data['classes'])\n",
    "        }\n",
    "        self._initialize_model(cfg_model)\n",
    "        self.train_model(cfg_model)\n",
    "        self.evaluate_model(self.tr_loader, 'train')\n",
    "        self.evaluate_model(self.va_loader, 'val')\n",
    "        wandb.finish()"
   ]
  },
  {
   "cell_type": "markdown",
   "id": "a9333a43",
   "metadata": {},
   "source": [
    "### Hyperparameter Sweep Testing"
   ]
  },
  {
   "cell_type": "code",
   "execution_count": null,
   "id": "815996db",
   "metadata": {},
   "outputs": [],
   "source": [
    "device = 'cuda:0' if torch.cuda.is_available() else 'cpu'\n",
    "print(f'Using device: {device}')\n",
    "        \n",
    "cfg_data = {\n",
    "    'n_workers': 32,\n",
    "    'batch_size': 2048,    \n",
    "    'stratification': 'majority', # 'random', 'binary', 'clustered', 'majority'\n",
    "    'data_path': '/mnt/fastdata/datasets/lore-loops/web-clang',\n",
    "    'embedding_model': 'source_coderankembed', # 'llvm_llmcompiler', 'source_codellama', 'source_llmcompiler', 'source_codet5p', 'source_coderankembed'\n",
    "    'embedding_layer': 'last', # 'last', 'all' (not working yet)\n",
    "    'n_embeddings': [1, 0, 1], # binary flags for [ref_embedding, transformation_embedding, transformation_encoding]\n",
    "    'min_transformations': 1, # only loop groups with at least <min> transformations\n",
    "    'max_transformations': 10000, # only loop groups with at most <max> transformations\n",
    "    'max_speedup': 2.5, # remove any loop group with a speedup transformation > max_speedup\n",
    "    'max_source_size': 100000, # only loop groups where reference .C file is at most <max> bytes\n",
    "    'task': 'classification',  # 'classification', 'regression'\n",
    "    # [(0, np.float64(0.5)), (2, np.float64(1.5)), (4, np.float64(2.5)), (6, np.float64(3.5))]\n",
    "    'class_splits': [0, .7, 1, 1.5, 17],\n",
    "    # 'class_splits': [-100, .5, 0.9999, 1.0001, 1.5, 2.5, 3.5, 100000],\n",
    "    'classes': ['HSL', 'SL', 'SP', 'HSP'],\n",
    "    'seed': 4,\n",
    "    'csv_path': './clang_4.0.0_data_table.csv', # for new data loader\n",
    "    'benchmark': '',\n",
    "    'filters': [],\n",
    "}"
   ]
  },
  {
   "cell_type": "code",
   "execution_count": null,
   "id": "29b92e1f",
   "metadata": {},
   "outputs": [],
   "source": [
    "sweep_config = {\n",
    "    'method': 'random',  # 'random', 'grid', 'bayes'\n",
    "    'metric': {'name': 'validation_loss', 'goal': 'minimize'},\n",
    "    'parameters': {\n",
    "        'n_hid_layers': {'values': [1, 2, 3, 4]},\n",
    "        'emb_latent_dim': {'values': [128, 256, 512]},\n",
    "        'model_type': {'value': 'mlp'},\n",
    "        'dropout': {'min': 0.1, 'max': 0.5},\n",
    "        'learning_rate': {'min': 1e-5, 'max': 1e-2},\n",
    "        'use_layer_norm': {'values': ['batch', 'layer', None]},\n",
    "        'weight_decay': {'min': 1e-5, 'max': 1e-3},\n",
    "        'max_epochs': {'value': 100},\n",
    "    }\n",
    "}\n",
    "\n",
    "sweep_id = wandb.sweep(sweep_config, project='MLFinal')\n",
    "\n",
    "runner = ExperimentRunner(cfg_data, device)\n",
    "runner.run_sweep(\n",
    "    sweep_id, \n",
    "    project_name='MLFinal', \n",
    "    group_name='All data, Experiment 5c (Random Sweep)', \n",
    "    run_name_prefix='exp5b_run', \n",
    "    count=20\n",
    ")"
   ]
  },
  {
   "cell_type": "markdown",
   "id": "ad7c8864",
   "metadata": {},
   "source": [
    "### LOOCV Testing"
   ]
  },
  {
   "cell_type": "code",
   "execution_count": null,
   "id": "2236908f",
   "metadata": {},
   "outputs": [],
   "source": [
    "device = 'cuda:0' if torch.cuda.is_available() else 'cpu'\n",
    "print(f'Using device: {device}')\n",
    "        \n",
    "cfg_data = {\n",
    "    'n_workers': 32,\n",
    "    'batch_size': 2048,    \n",
    "    'stratification': 'majority', # 'random', 'binary', 'clustered', 'majority'\n",
    "    'data_path': '/mnt/fastdata/datasets/lore-loops/web-clang',\n",
    "    'embedding_model': 'source_coderankembed', # 'llvm_llmcompiler', 'source_codellama', 'source_llmcompiler', 'source_codet5p', 'source_coderankembed'\n",
    "    'embedding_layer': 'last', # 'last', 'all' (not working yet)\n",
    "    'n_embeddings': [1, 0, 1], # binary flags for [ref_embedding, transformation_embedding, transformation_encoding]\n",
    "    'min_transformations': 1, # only loop groups with at least <min> transformations\n",
    "    'max_transformations': 10000, # only loop groups with at most <max> transformations\n",
    "    'max_speedup': 2.5, # remove any loop group with a speedup transformation > max_speedup\n",
    "    'max_source_size': 100000, # only loop groups where reference .C file is at most <max> bytes\n",
    "    'task': 'classification',  # 'classification', 'regression'\n",
    "    # [(0, np.float64(0.5)), (2, np.float64(1.5)), (4, np.float64(2.5)), (6, np.float64(3.5))]\n",
    "    'class_splits': [0, .7, 1, 1.5, 17],\n",
    "    # 'class_splits': [-100, .5, 0.9999, 1.0001, 1.5, 2.5, 3.5, 100000],\n",
    "    'classes': ['HSL', 'SL', 'SP', 'HSP'],\n",
    "    'seed': 4,\n",
    "    'csv_path': './clang_4.0.0_data_table.csv', # for new data loader\n",
    "    'benchmark': 'NPB',\n",
    "    'filters': [('benchmark', '==', 'NPB')],\n",
    "}"
   ]
  },
  {
   "cell_type": "code",
   "execution_count": null,
   "id": "0e11a2ac",
   "metadata": {},
   "outputs": [],
   "source": [
    "runner = ExperimentRunner(cfg_data, device, load_data=False)\n",
    "runner.run_loocv(\n",
    "    project_name='MLFinal', \n",
    "    group_name='LOOCV, NPB Benchmark', \n",
    "    run_name_prefix='exp2d', \n",
    ")"
   ]
  },
  {
   "cell_type": "markdown",
   "id": "a254d1a3",
   "metadata": {},
   "source": [
    "### Standard Testing"
   ]
  },
  {
   "cell_type": "code",
   "execution_count": 7,
   "id": "bf632d58",
   "metadata": {},
   "outputs": [
    {
     "name": "stdout",
     "output_type": "stream",
     "text": [
      "Using device: cuda:0\n"
     ]
    }
   ],
   "source": [
    "device = 'cuda:0' if torch.cuda.is_available() else 'cpu'\n",
    "print(f'Using device: {device}')\n",
    "        \n",
    "cfg_data = {\n",
    "    'n_workers': 32,\n",
    "    'batch_size': 2048,    \n",
    "    'stratification': 'random', # 'random', 'binary', 'clustered', 'majority'\n",
    "    'data_path': '/mnt/fastdata/datasets/lore-loops/web-clang',\n",
    "    'embedding_model': 'source_coderankembed', # 'llvm_llmcompiler', 'source_codellama', 'source_llmcompiler', 'source_codet5p', 'source_coderankembed'\n",
    "    'embedding_layer': 'last', # 'last', 'all' (not working yet)\n",
    "    'n_embeddings': [1, 0, 1], # binary flags for [ref_embedding, transformation_embedding, transformation_encoding]\n",
    "    'min_transformations': 1, # only loop groups with at least <min> transformations\n",
    "    'max_transformations': 10000, # only loop groups with at most <max> transformations\n",
    "    'max_speedup': 2.5, # remove any loop group with a speedup transformation > max_speedup\n",
    "    'max_source_size': 100000, # only loop groups where reference .C file is at most <max> bytes\n",
    "    'task': 'classification',  # 'classification', 'regression'\n",
    "    # [(0, np.float64(0.5)), (2, np.float64(1.5)), (4, np.float64(2.5)), (6, np.float64(3.5))]\n",
    "    'class_splits': [0, .7, 1, 1.5, 17],\n",
    "    # 'class_splits': [-100, .5, 0.9999, 1.0001, 1.5, 2.5, 3.5, 100000],\n",
    "    'classes': ['HSL', 'SL', 'SP', 'HSP'],\n",
    "    'seed': 4,\n",
    "    'csv_path': './clang_4.0.0_data_table.csv', # for new data loader\n",
    "    'benchmark': 'NPB',\n",
    "    'filters': [('benchmark', '==', 'NPB'), ('application', '==', 'SP')],\n",
    "}"
   ]
  },
  {
   "cell_type": "code",
   "execution_count": 8,
   "id": "60039579",
   "metadata": {},
   "outputs": [
    {
     "data": {
      "text/html": [
       "Tracking run with wandb version 0.19.0"
      ],
      "text/plain": [
       "<IPython.core.display.HTML object>"
      ]
     },
     "metadata": {},
     "output_type": "display_data"
    },
    {
     "data": {
      "text/html": [
       "Run data is saved locally in <code>/home/rbrooks/Project/wandb/run-20241212_160419-46nilm6a</code>"
      ],
      "text/plain": [
       "<IPython.core.display.HTML object>"
      ]
     },
     "metadata": {},
     "output_type": "display_data"
    },
    {
     "data": {
      "text/html": [
       "Syncing run <strong><a href='https://wandb.ai/ryanbrooks-uni/MLFinal/runs/46nilm6a' target=\"_blank\">exp3_random_strat_run_1</a></strong> to <a href='https://wandb.ai/ryanbrooks-uni/MLFinal' target=\"_blank\">Weights & Biases</a> (<a href='https://wandb.me/developer-guide' target=\"_blank\">docs</a>)<br/>"
      ],
      "text/plain": [
       "<IPython.core.display.HTML object>"
      ]
     },
     "metadata": {},
     "output_type": "display_data"
    },
    {
     "data": {
      "text/html": [
       " View project at <a href='https://wandb.ai/ryanbrooks-uni/MLFinal' target=\"_blank\">https://wandb.ai/ryanbrooks-uni/MLFinal</a>"
      ],
      "text/plain": [
       "<IPython.core.display.HTML object>"
      ]
     },
     "metadata": {},
     "output_type": "display_data"
    },
    {
     "data": {
      "text/html": [
       " View run at <a href='https://wandb.ai/ryanbrooks-uni/MLFinal/runs/46nilm6a' target=\"_blank\">https://wandb.ai/ryanbrooks-uni/MLFinal/runs/46nilm6a</a>"
      ],
      "text/plain": [
       "<IPython.core.display.HTML object>"
      ]
     },
     "metadata": {},
     "output_type": "display_data"
    },
    {
     "name": "stdout",
     "output_type": "stream",
     "text": [
      "Total loop groups: 57 Train: 45 Val: 12\n",
      "768\n",
      "56\n",
      "0 loop groups removed for this split\n",
      "768\n",
      "56\n",
      "0 loop groups removed for this split\n",
      "Total datapoints: 23430 Train: 21184 Valid: 2246\n",
      "\n",
      " MLP(\n",
      "  (projection): Sequential(\n",
      "    (0): Linear(in_features=768, out_features=256, bias=True)\n",
      "    (1): LayerNorm((256,), eps=1e-05, elementwise_affine=True)\n",
      "  )\n",
      "  (head): MLPHead(\n",
      "    (head): Sequential(\n",
      "      (0): Linear(in_features=312, out_features=156, bias=True)\n",
      "      (1): BatchNorm1d(156, eps=1e-05, momentum=0.1, affine=True, track_running_stats=True)\n",
      "      (2): ReLU()\n",
      "      (3): Dropout(p=0.2, inplace=False)\n",
      "      (4): Linear(in_features=156, out_features=78, bias=True)\n",
      "      (5): BatchNorm1d(78, eps=1e-05, momentum=0.1, affine=True, track_running_stats=True)\n",
      "      (6): ReLU()\n",
      "      (7): Dropout(p=0.2, inplace=False)\n",
      "      (8): Linear(in_features=78, out_features=39, bias=True)\n",
      "      (9): BatchNorm1d(39, eps=1e-05, momentum=0.1, affine=True, track_running_stats=True)\n",
      "      (10): ReLU()\n",
      "      (11): Dropout(p=0.2, inplace=False)\n",
      "      (12): Linear(in_features=39, out_features=4, bias=True)\n",
      "    )\n",
      "  )\n",
      ")\n",
      "Epoch: 1\tTr Loss: 1.189\tVal Loss: 1.374\n",
      "Epoch: 2\tTr Loss: 0.955\tVal Loss: 1.253\n",
      "Epoch: 3\tTr Loss: 0.802\tVal Loss: 1.152\n",
      "Epoch: 4\tTr Loss: 0.665\tVal Loss: 1.082\n",
      "Epoch: 5\tTr Loss: 0.555\tVal Loss: 0.973\n",
      "Epoch: 6\tTr Loss: 0.478\tVal Loss: 0.822\n",
      "Epoch: 7\tTr Loss: 0.418\tVal Loss: 0.702\n",
      "Epoch: 8\tTr Loss: 0.373\tVal Loss: 0.580\n",
      "Epoch: 9\tTr Loss: 0.337\tVal Loss: 0.558\n",
      "Epoch: 10\tTr Loss: 0.310\tVal Loss: 0.600\n",
      "Epoch: 11\tTr Loss: 0.284\tVal Loss: 0.620\n",
      "Epoch: 12\tTr Loss: 0.261\tVal Loss: 0.520\n",
      "Epoch: 13\tTr Loss: 0.243\tVal Loss: 0.505\n",
      "Epoch: 14\tTr Loss: 0.226\tVal Loss: 0.519\n",
      "Epoch: 15\tTr Loss: 0.213\tVal Loss: 0.540\n",
      "Epoch: 16\tTr Loss: 0.202\tVal Loss: 0.505\n",
      "Epoch: 17\tTr Loss: 0.190\tVal Loss: 0.502\n",
      "Epoch: 18\tTr Loss: 0.178\tVal Loss: 0.384\n",
      "Epoch: 19\tTr Loss: 0.169\tVal Loss: 0.388\n",
      "Epoch: 20\tTr Loss: 0.158\tVal Loss: 0.380\n",
      "Epoch: 21\tTr Loss: 0.155\tVal Loss: 0.492\n",
      "Epoch: 22\tTr Loss: 0.148\tVal Loss: 0.306\n",
      "Epoch: 23\tTr Loss: 0.141\tVal Loss: 0.476\n",
      "Epoch: 24\tTr Loss: 0.140\tVal Loss: 0.409\n",
      "Epoch: 25\tTr Loss: 0.129\tVal Loss: 0.460\n",
      "Epoch: 26\tTr Loss: 0.129\tVal Loss: 0.420\n",
      "Epoch: 27\tTr Loss: 0.122\tVal Loss: 0.356\n",
      "Early stopping triggered after 27 epochs.\n"
     ]
    },
    {
     "data": {
      "image/png": "[encoded data removed]",
      "text/plain": [
       "<Figure size 640x480 with 2 Axes>"
      ]
     },
     "metadata": {},
     "output_type": "display_data"
    },
    {
     "name": "stdout",
     "output_type": "stream",
     "text": [
      "train metrics: {'num_unique_targets': 3, 'accuracy': 0.9528889656066895, 'speedup_slowdown_accuracy': 1.0}\n"
     ]
    },
    {
     "data": {
      "image/png": "[encoded data removed]",
      "text/plain": [
       "<Figure size 640x480 with 2 Axes>"
      ]
     },
     "metadata": {},
     "output_type": "display_data"
    },
    {
     "name": "stdout",
     "output_type": "stream",
     "text": [
      "val metrics: {'num_unique_targets': 4, 'accuracy': 0.8873553276062012, 'speedup_slowdown_accuracy': 0.9995547533035278}\n"
     ]
    },
    {
     "data": {
      "text/html": [
       "\n",
       "    <style>\n",
       "        .wandb-row {\n",
       "            display: flex;\n",
       "            flex-direction: row;\n",
       "            flex-wrap: wrap;\n",
       "            justify-content: flex-start;\n",
       "            width: 100%;\n",
       "        }\n",
       "        .wandb-col {\n",
       "            display: flex;\n",
       "            flex-direction: column;\n",
       "            flex-basis: 100%;\n",
       "            flex: 1;\n",
       "            padding: 10px;\n",
       "        }\n",
       "    </style>\n",
       "<div class=\"wandb-row\"><div class=\"wandb-col\"><h3>Run history:</h3><br/><table class=\"wandb\"><tr><td>training_loss</td><td>▁</td></tr><tr><td>validation_loss</td><td>▁</td></tr></table><br/></div><div class=\"wandb-col\"><h3>Run summary:</h3><br/><table class=\"wandb\"><tr><td>training_loss</td><td>0.12157</td></tr><tr><td>validation_loss</td><td>0.35636</td></tr></table><br/></div></div>"
      ],
      "text/plain": [
       "<IPython.core.display.HTML object>"
      ]
     },
     "metadata": {},
     "output_type": "display_data"
    },
    {
     "data": {
      "text/html": [
       " View run <strong style=\"color:#cdcd00\">exp3_random_strat_run_1</strong> at: <a href='https://wandb.ai/ryanbrooks-uni/MLFinal/runs/46nilm6a' target=\"_blank\">https://wandb.ai/ryanbrooks-uni/MLFinal/runs/46nilm6a</a><br/> View project at: <a href='https://wandb.ai/ryanbrooks-uni/MLFinal' target=\"_blank\">https://wandb.ai/ryanbrooks-uni/MLFinal</a><br/>Synced 5 W&B file(s), 0 media file(s), 0 artifact file(s) and 0 other file(s)"
      ],
      "text/plain": [
       "<IPython.core.display.HTML object>"
      ]
     },
     "metadata": {},
     "output_type": "display_data"
    },
    {
     "data": {
      "text/html": [
       "Find logs at: <code>./wandb/run-20241212_160419-46nilm6a/logs</code>"
      ],
      "text/plain": [
       "<IPython.core.display.HTML object>"
      ]
     },
     "metadata": {},
     "output_type": "display_data"
    }
   ],
   "source": [
    "runner = ExperimentRunner(cfg_data, device)\n",
    "runner.run(\n",
    "    project_name='MLFinal', \n",
    "    group_name='NPB SP app, Experiment 3', \n",
    "    run_name_prefix='exp3_random_strat_run',\n",
    "    count=1\n",
    ")"
   ]
  },
  {
   "cell_type": "code",
   "execution_count": null,
   "id": "d5384013",
   "metadata": {},
   "outputs": [],
   "source": [
    "##########################################\n",
    "# REQUIRES A SECOND LOOK\n",
    "##########################################\n",
    "class BidirectionalCrossAttention(nn.Module):\n",
    "    def __init__(self, cfg):\n",
    "        super().__init__()\n",
    "        self.n_embeddings = cfg['n_embeddings']\n",
    "        self.projection = nn.Sequential(\n",
    "            nn.Linear(cfg['emb_dim'], cfg['emb_latent_dim']),\n",
    "            nn.LayerNorm(cfg['emb_latent_dim'])\n",
    "        )\n",
    "        latent_dim = cfg['emb_latent_dim'] * self.n_embeddings\n",
    "        out_dim = 1 if cfg['task'] == 'regression' else cfg['num_classes']\n",
    "        self.head = MLPHead(latent_dim+cfg['transf_dim'], out_dim, cfg['use_layer_norm'], cfg['dropout'], cfg['n_hid_layers'])\n",
    "        self.cross_attention1 = nn.MultiheadAttention(embed_dim=latent_dim, num_heads=4, dropout=cfg['dropout'], batch_first=True, kdim=cfg['transf_dim'], vdim=cfg['transf_dim'])\n",
    "        self.cross_attention2 = nn.MultiheadAttention(embed_dim=cfg['transf_dim'], num_heads=4, dropout=cfg['dropout'], batch_first=True, kdim=latent_dim, vdim=latent_dim)\n",
    "\n",
    "    def forward(self, batch):\n",
    "        emb_proj_1 = self.projection(batch[0])\n",
    "        if self.n_embeddings == 1:\n",
    "            features1, _ = self.cross_attention1(query=emb_proj_1, key=batch[1], value=batch[1])\n",
    "            features2, _ = self.cross_attention2(query=batch[1], key=emb_proj_1, value=emb_proj_1)\n",
    "            return self.head(torch.cat([emb_proj_1+features1, batch[1]+features2], dim=1)).squeeze(-1)\n",
    "        elif self.n_embeddings == 2:\n",
    "            emb_proj_2 = self.projection(batch[1])\n",
    "            embs = torch.cat([emb_proj_1, emb_proj_2], dim=1)\n",
    "            features1, _ = self.cross_attention1(query=embs, key=batch[2], value=batch[2])\n",
    "            features2, _ = self.cross_attention2(query=batch[2], key=embs, value=embs)\n",
    "            return self.head(torch.cat([embs+features1, batch[2]+features2], dim=1)).squeeze(-1)"
   ]
  }
 ],
 "metadata": {
  "kernelspec": {
   "display_name": "venv",
   "language": "python",
   "name": "python3"
  },
  "language_info": {
   "codemirror_mode": {
    "name": "ipython",
    "version": 3
   },
   "file_extension": ".py",
   "mimetype": "text/x-python",
   "name": "python",
   "nbconvert_exporter": "python",
   "pygments_lexer": "ipython3",
   "version": "3.12.3"
  }
 },
 "nbformat": 4,
 "nbformat_minor": 5
}
